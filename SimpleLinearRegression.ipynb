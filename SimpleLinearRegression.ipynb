{
 "cells": [
  {
   "cell_type": "markdown",
   "id": "c4006b13-4a0a-4674-9c18-a00db21232f3",
   "metadata": {},
   "source": [
    "# Building a Predictive Regression Model with Gradient Descent"
   ]
  },
  {
   "cell_type": "markdown",
   "id": "d6721619-1dac-4c93-a5dc-7dab700e86c6",
   "metadata": {},
   "source": [
    "## Project Documentation"
   ]
  },
  {
   "cell_type": "markdown",
   "id": "50343650-4bf4-49c4-a307-5ad3075a2835",
   "metadata": {},
   "source": [
    "### Overview\n",
    "Implementation of Simple Linear Regression from scratch using Python to predict target values, evaluate model performance, and compare against scikit-learn’s regression model.\n",
    "- Built all components of SLR manually without using machine learning libraries.\n",
    "- Implemented gradient descent for parameter optimization.\n",
    "- Split dataset into training and testing sets manually (80/20 split).\n",
    "- Created custom functions for prediction, Mean Squared Error (MSE), and R² score.\n",
    "- Visualized regression results using matplotlib."
   ]
  },
  {
   "cell_type": "markdown",
   "id": "d0c03172-7544-466a-936d-f8a2806929ba",
   "metadata": {},
   "source": [
    "### Results\n",
    "- Achieved RMSE: 3882.71 and R²: 0.98 with manual implementation.\n",
    "- Sklearn model on the same data produced RMSE: 5076.83 and R²: 0.94.\n",
    "- Manual model outperformed sklearn due to better convergence with higher iteration cap.\n",
    "- Demonstrated strong understanding of model training, gradient descent (parameter optimization), evaluation, error analysis without relying on external ML libraries."
   ]
  },
  {
   "cell_type": "markdown",
   "id": "532c136b-a887-4f14-8df1-0f303415afc5",
   "metadata": {},
   "source": [
    "### Importing the required modules"
   ]
  },
  {
   "cell_type": "code",
   "execution_count": 1,
   "id": "389c6ab7-7972-4ec5-b79c-d38433ea3b68",
   "metadata": {},
   "outputs": [],
   "source": [
    "import pandas as pd\n",
    "import numpy as np\n",
    "import random\n",
    "import matplotlib.pyplot as plt"
   ]
  },
  {
   "cell_type": "markdown",
   "id": "7fe1c9a1-f658-487e-8d67-a60b2f78c1f1",
   "metadata": {},
   "source": [
    "### Defining core functions for performing Simple Linear Regression"
   ]
  },
  {
   "cell_type": "markdown",
   "id": "05cf0098-dd6a-412c-bf31-c9ead6964bb3",
   "metadata": {},
   "source": [
    "#### Conversion Function: NumPy Arrays to Python Lists for compatibility with other functions."
   ]
  },
  {
   "cell_type": "code",
   "execution_count": 2,
   "id": "e785a8dd-a073-4bdf-8364-05e14efee39e",
   "metadata": {},
   "outputs": [],
   "source": [
    "def Convert(points):\n",
    "    converted_points = points.tolist()\n",
    "    \n",
    "    return converted_points"
   ]
  },
  {
   "cell_type": "markdown",
   "id": "96125ecb-21f0-45f5-9d53-e77985415ba5",
   "metadata": {},
   "source": [
    "#### Manual Train-Test Split Function: Default split 80/20."
   ]
  },
  {
   "cell_type": "code",
   "execution_count": 3,
   "id": "eb51c5da-0f8c-4ea5-a9a0-10f274178e4f",
   "metadata": {},
   "outputs": [],
   "source": [
    "def TrainTestSplit(x_points, y_points, train_size=0.8):\n",
    "    if len(x_points) != len(y_points):\n",
    "        raise ValueError(\"x and y must be of the same length\")\n",
    "    \n",
    "    # Combine and shuffle\n",
    "    combined = list(zip(x_points, y_points))\n",
    "    random.shuffle(combined)\n",
    "    \n",
    "    # Unzip after shuffling\n",
    "    x_points[:], y_points[:] = zip(*combined)\n",
    "    \n",
    "    # Compute split index\n",
    "    split_index = int(len(x_points) * train_size)\n",
    "    \n",
    "    # Slice into train and test\n",
    "    X_train = x_points[:split_index]\n",
    "    y_train = y_points[:split_index]\n",
    "    X_test = x_points[split_index:]\n",
    "    y_test = y_points[split_index:]\n",
    "    \n",
    "    return X_train, X_test, y_train, y_test"
   ]
  },
  {
   "cell_type": "markdown",
   "id": "f3ef508f-adba-4839-b430-ee84bb1b43a7",
   "metadata": {},
   "source": [
    "#### Gradient Descent Function: Intercept and slope optimization using gradient descent for MSE minimization."
   ]
  },
  {
   "cell_type": "code",
   "execution_count": 4,
   "id": "f1ffa7dc-f947-4211-9f83-ede779ceeb03",
   "metadata": {},
   "outputs": [],
   "source": [
    "def GradientDescent(x_points,y_points):\n",
    "    if len(x_points) != len(y_points):\n",
    "        raise ValueError(\"number of x points must match the number of y points and vice versa\")\n",
    "    \n",
    "    #defining intial variables\n",
    "    intial_intercept_c = 0      #starting intercept, using a random value.\n",
    "    intial_slope_m = 0          #starting slope, using a random value.\n",
    "    n = len(x_points)\n",
    "    learning_rate = 0.01\n",
    "    step_size_intercept = float('inf')     #step size for adjusting the next value of the intercept.\n",
    "    step_size_slope = float('inf')         #step size for adjusting the next value of the slope.\n",
    "    iteration_limit = 0                    #counter to prevent infinite loop incase of slow convergence.\n",
    "\n",
    "    while (abs(step_size_intercept) > 0.001 or abs(step_size_slope) > 0.001) and iteration_limit < 2000:\n",
    "        \n",
    "        #LOSS with respect to intercept (c)\n",
    "        gradient_intercept = 0\n",
    "        for x_point, y_point in zip(x_points, y_points):\n",
    "            error = -2*(y_point - (intial_slope_m * x_point + intial_intercept_c))\n",
    "            gradient_intercept += error\n",
    "        gradient_intercept = gradient_intercept / n\n",
    "\n",
    "        #calculating the next value of intercept \n",
    "        new_step = gradient_intercept * learning_rate\n",
    "        new_intercept = intial_intercept_c - new_step\n",
    "        step_size_intercept = new_step\n",
    "        intial_intercept_c = new_intercept\n",
    "    \n",
    "        #LOSS with respect to slope (m)\n",
    "        gradient_slope = 0\n",
    "        for x_point, y_point in zip(x_points, y_points):\n",
    "            error = -2 * x_point * (y_point - (intial_slope_m * x_point + intial_intercept_c))\n",
    "            gradient_slope += error\n",
    "        gradient_slope = gradient_slope / n\n",
    "\n",
    "        #calculating the next value of slope\n",
    "        new_step = gradient_slope * learning_rate\n",
    "        new_slope = intial_slope_m - new_step\n",
    "        step_size_slope = new_step\n",
    "        intial_slope_m = new_slope\n",
    "\n",
    "        iteration_limit += 1\n",
    "\n",
    "    return intial_intercept_c, intial_slope_m"
   ]
  },
  {
   "cell_type": "markdown",
   "id": "e3ec42ec-c539-4f2a-a7fa-02b014da065e",
   "metadata": {},
   "source": [
    "#### Prediction Function: Predicting output using trained parameters."
   ]
  },
  {
   "cell_type": "code",
   "execution_count": 5,
   "id": "f7ccb415-0bbd-4e6b-b41f-a86c999d7f15",
   "metadata": {},
   "outputs": [],
   "source": [
    "def Predict(x_points, intercept, slope):\n",
    "    y_pred = []\n",
    "    \n",
    "    for x_point in x_points:\n",
    "        predicted_value = slope * x_point + intercept\n",
    "        y_pred.append(predicted_value)\n",
    "    \n",
    "    return y_pred"
   ]
  },
  {
   "cell_type": "markdown",
   "id": "7ed75a04-573e-4bb1-9e67-e46f5c952f6e",
   "metadata": {},
   "source": [
    "#### Loss Function: Mean Squared Error calculation (performance metric."
   ]
  },
  {
   "cell_type": "code",
   "execution_count": 6,
   "id": "fad87546-d85e-4b94-b774-527441f93cac",
   "metadata": {},
   "outputs": [],
   "source": [
    "def MeanSquaredError(y_points, y_predictions):\n",
    "    if len(y_points) != len(y_predictions):\n",
    "        raise ValueError(\"number of predictions do not match the number of true values\")\n",
    "    \n",
    "    MSE = 0\n",
    "    n = len(y_points)\n",
    "\n",
    "    for actual, prediction in zip(y_points, y_predictions):\n",
    "        error = actual - prediction\n",
    "        error = error ** 2\n",
    "        MSE += error\n",
    "\n",
    "    MSE = round(MSE / n,2)\n",
    "\n",
    "    return round(MSE,3)"
   ]
  },
  {
   "cell_type": "markdown",
   "id": "9926ae79-8284-4094-93b9-760de1d209da",
   "metadata": {},
   "source": [
    "#### R2 Function: Calculating the Coefficient of Determination (R² Score)"
   ]
  },
  {
   "cell_type": "code",
   "execution_count": 7,
   "id": "a3982f78-6a69-4afd-9eb3-87bd2fa6d71e",
   "metadata": {},
   "outputs": [],
   "source": [
    "def R2Score(y_points, y_predictions):\n",
    "    if len(y_points) != len(y_predictions):\n",
    "        raise ValueError(\"length of actual and predicted values must be equal\")\n",
    "\n",
    "    mean_y = sum(y_points) / len(y_points)\n",
    "    ss_total = sum((y - mean_y) ** 2 for y in y_points)\n",
    "    ss_residual = sum((y - y_hat) ** 2 for y, y_hat in zip(y_points, y_predictions))\n",
    "    \n",
    "    r2 = 1 - (ss_residual / ss_total)\n",
    "    return round(r2,2)"
   ]
  },
  {
   "cell_type": "markdown",
   "id": "6f1109aa-7bdf-4fd7-8222-904fa0663504",
   "metadata": {},
   "source": [
    "#### Visualization Function: Scatter Plot with Fitted Regression Line."
   ]
  },
  {
   "cell_type": "code",
   "execution_count": 8,
   "id": "3ae4f9ec-9801-4279-af9d-9de016b7aa7f",
   "metadata": {},
   "outputs": [],
   "source": [
    "def DisplayRegression(x_points, y_points, y_pred, rmse):\n",
    "    plt.figure(figsize=(10,6))\n",
    "    plt.scatter(x_points,y_points, label=\"True Data\", color = 'green')\n",
    "    plt.plot(x_points, y_pred, label=\"Regression Line\", color='blue')\n",
    "    plt.title(f\"Root MSE: {rmse}\")\n",
    "    plt.grid(True)\n",
    "    plt.legend()\n",
    "    plt.show()"
   ]
  },
  {
   "cell_type": "markdown",
   "id": "224748a0-412f-4371-9324-35b05d1f712d",
   "metadata": {},
   "source": [
    "#### Visualization Function: Scatter Plot for X and Y."
   ]
  },
  {
   "cell_type": "code",
   "execution_count": 9,
   "id": "e05ae81b-6650-4e8e-916c-3e3769baa937",
   "metadata": {},
   "outputs": [],
   "source": [
    "def ScatterPlot(x_points, y_points):\n",
    "    plt.figure(figsize=(10,6))\n",
    "    plt.scatter(x_points,y_points, color = 'green')\n",
    "    plt.title(\"Scatter Plot\")\n",
    "    plt.grid(True)\n",
    "    plt.show()"
   ]
  },
  {
   "cell_type": "markdown",
   "id": "f72599a8-f6f1-4494-8a93-c6256d7013a0",
   "metadata": {},
   "source": [
    "### Complete Manual Implementation of SLR (Training to Evaluation)"
   ]
  },
  {
   "cell_type": "code",
   "execution_count": 10,
   "id": "3a3b402d-43c1-4705-b707-c097cf0855d2",
   "metadata": {},
   "outputs": [],
   "source": [
    "df = pd.read_csv(\"Salary_Data.csv\")"
   ]
  },
  {
   "cell_type": "code",
   "execution_count": 11,
   "id": "205792ee-2be6-4ed0-a82a-9c7199e7ccf0",
   "metadata": {},
   "outputs": [],
   "source": [
    "X = df['YearsExperience']\n",
    "y = df['Salary']"
   ]
  },
  {
   "cell_type": "code",
   "execution_count": 12,
   "id": "3b0676d6-1bd4-40da-b5c5-1cc5b0c83a6e",
   "metadata": {},
   "outputs": [],
   "source": [
    "X = Convert(X)\n",
    "y = Convert(y)"
   ]
  },
  {
   "cell_type": "code",
   "execution_count": 13,
   "id": "e70de313-7a68-4c38-99bb-60cc496f8ad7",
   "metadata": {},
   "outputs": [
    {
     "data": {
      "image/png": "[encoded data removed]",
      "text/plain": [
       "<Figure size 1000x600 with 1 Axes>"
      ]
     },
     "metadata": {},
     "output_type": "display_data"
    }
   ],
   "source": [
    "ScatterPlot(X,y)"
   ]
  },
  {
   "cell_type": "markdown",
   "id": "0ea34c2d-2b4e-4a85-a89d-e0cadb21d93b",
   "metadata": {},
   "source": [
    "#### Train-Test split"
   ]
  },
  {
   "cell_type": "code",
   "execution_count": 14,
   "id": "cc27f8a3-0c4c-48d3-a555-ef6a87289b3b",
   "metadata": {},
   "outputs": [],
   "source": [
    "X_train, X_test, y_train, y_test = TrainTestSplit(X,y)"
   ]
  },
  {
   "cell_type": "code",
   "execution_count": 15,
   "id": "d9ee29c7-374d-4734-9661-3489689caa22",
   "metadata": {},
   "outputs": [
    {
     "name": "stdout",
     "output_type": "stream",
     "text": [
      "Training X data: [9.6, 5.3, 5.9, 2.2, 6.8, 7.1, 9.5, 4.9, 3.2, 6.0, 3.9, 1.5, 2.0, 8.2, 1.3, 4.5, 2.9, 5.1, 9.0, 4.1, 3.7, 4.0, 4.0, 3.2]\n"
     ]
    }
   ],
   "source": [
    "print(f\"Training X data: {X_train}\")"
   ]
  },
  {
   "cell_type": "code",
   "execution_count": 16,
   "id": "e835379c-bd80-4533-be01-7f41b61d9a7d",
   "metadata": {},
   "outputs": [
    {
     "name": "stdout",
     "output_type": "stream",
     "text": [
      "Training y data: [112635.0, 83088.0, 81363.0, 39891.0, 91738.0, 98273.0, 116969.0, 67938.0, 54445.0, 93940.0, 63218.0, 37731.0, 43525.0, 113812.0, 46205.0, 61111.0, 56642.0, 66029.0, 105582.0, 57081.0, 57189.0, 56957.0, 55794.0, 64445.0]\n"
     ]
    }
   ],
   "source": [
    "print(f\"Training y data: {y_train}\")"
   ]
  },
  {
   "cell_type": "markdown",
   "id": "7d273440-4bcb-44fb-872e-c33e32859bf9",
   "metadata": {},
   "source": [
    "#### Gradient Descent Execution for Parameter Estimation (𝑚 and 𝑐) - Training Model"
   ]
  },
  {
   "cell_type": "code",
   "execution_count": 17,
   "id": "aa652910-5d0f-4f9e-80e6-1c001a1d697d",
   "metadata": {},
   "outputs": [
    {
     "name": "stdout",
     "output_type": "stream",
     "text": [
      "Estimated Optimal Intercept: 24131.88980153865\n",
      "Estimated Optimal Slope: 9723.361769147303\n"
     ]
    }
   ],
   "source": [
    "values = GradientDescent(X_train, y_train)\n",
    "intercept = values[0]\n",
    "slope = values[1]\n",
    "print(f\"Estimated Optimal Intercept: {intercept}\")\n",
    "print(f\"Estimated Optimal Slope: {slope}\")"
   ]
  },
  {
   "cell_type": "markdown",
   "id": "6d4d6e1e-fdb5-40f6-a44a-c70dd673e6ae",
   "metadata": {},
   "source": [
    "#### Computing Predictions with Learned Parameters - Testing Model"
   ]
  },
  {
   "cell_type": "code",
   "execution_count": 18,
   "id": "13687c2b-ed96-41fa-8710-91d3e48701a1",
   "metadata": {},
   "outputs": [],
   "source": [
    "y_pred = Predict(X_test, intercept, slope)"
   ]
  },
  {
   "cell_type": "markdown",
   "id": "c7cb16d3-b551-4344-a993-acef481f4a8e",
   "metadata": {},
   "source": [
    "#### Model Evaluation: Calculating Mean Squared Error and Visualizing Regression Line"
   ]
  },
  {
   "cell_type": "code",
   "execution_count": 19,
   "id": "ec514817-1ec4-4d24-8f97-6dadd6395741",
   "metadata": {},
   "outputs": [],
   "source": [
    "MSE = MeanSquaredError(y_test, y_pred)"
   ]
  },
  {
   "cell_type": "code",
   "execution_count": 20,
   "id": "1c84b752-1132-4e83-b93e-7ea94ac0e071",
   "metadata": {},
   "outputs": [
    {
     "name": "stdout",
     "output_type": "stream",
     "text": [
      "Mean Squared Error: 15075758.51\n"
     ]
    }
   ],
   "source": [
    "print(f\"Mean Squared Error: {MSE}\")"
   ]
  },
  {
   "cell_type": "code",
   "execution_count": 21,
   "id": "d4f7f5ab-80fb-4f7a-bc09-39fb2d69f4b3",
   "metadata": {},
   "outputs": [
    {
     "name": "stdout",
     "output_type": "stream",
     "text": [
      "Root MSE: $3882.751\n"
     ]
    }
   ],
   "source": [
    "#root MSE for converting error into outcome variable's unit\n",
    "RMSE = round(MSE ** 0.5,3)\n",
    "print(f\"Root MSE: ${RMSE}\")"
   ]
  },
  {
   "cell_type": "code",
   "execution_count": 22,
   "id": "146dfd8e-940e-4e9c-9c34-7873845dc918",
   "metadata": {},
   "outputs": [
    {
     "name": "stdout",
     "output_type": "stream",
     "text": [
      "r2_score: 0.98\n"
     ]
    }
   ],
   "source": [
    "r2_score = R2Score(y_test, y_pred)\n",
    "print(f\"r2_score: {r2_score}\")"
   ]
  },
  {
   "cell_type": "code",
   "execution_count": 23,
   "id": "2a23de77-2680-4402-9b90-f02baef773f5",
   "metadata": {},
   "outputs": [
    {
     "data": {
      "image/png": "[encoded data removed]",
      "text/plain": [
       "<Figure size 1000x600 with 1 Axes>"
      ]
     },
     "metadata": {},
     "output_type": "display_data"
    }
   ],
   "source": [
    "DisplayRegression(X_test, y_test, y_pred, RMSE)"
   ]
  }
 ],
 "metadata": {
  "kernelspec": {
   "display_name": "Python 3 (ipykernel)",
   "language": "python",
   "name": "python3"
  },
  "language_info": {
   "codemirror_mode": {
    "name": "ipython",
    "version": 3
   },
   "file_extension": ".py",
   "mimetype": "text/x-python",
   "name": "python",
   "nbconvert_exporter": "python",
   "pygments_lexer": "ipython3",
   "version": "3.13.0"
  }
 },
 "nbformat": 4,
 "nbformat_minor": 5
}
